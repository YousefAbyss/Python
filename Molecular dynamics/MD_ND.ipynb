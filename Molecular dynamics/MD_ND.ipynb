{
  "cells": [
    {
      "cell_type": "markdown",
      "metadata": {
        "id": "view-in-github",
        "colab_type": "text"
      },
      "source": [
        "<a href=\"https://colab.research.google.com/github/YousefAbyss/Python-Projects/blob/main/Molecular%20dynamics/MD_ND.ipynb\" target=\"_parent\"><img src=\"https://colab.research.google.com/assets/colab-badge.svg\" alt=\"Open In Colab\"/></a>"
      ]
    },
    {
      "cell_type": "code",
      "source": [
        "%matplotlib inline\n",
        "import numpy as np\n",
        "import matplotlib.pyplot as plt\n",
        "from scipy.constants import Boltzmann"
      ],
      "metadata": {
        "id": "rcP5TEbW9B6s"
      },
      "id": "rcP5TEbW9B6s",
      "execution_count": 152,
      "outputs": []
    },
    {
      "cell_type": "code",
      "source": [
        "mass_of_argon = 39.948 #  amu"
      ],
      "metadata": {
        "id": "UcMuNmlF9ECQ"
      },
      "id": "UcMuNmlF9ECQ",
      "execution_count": 153,
      "outputs": []
    },
    {
      "cell_type": "markdown",
      "source": [
        "* Lennard-Jones potential:\n",
        "$$E_{attractive}(r) = -4𝜀(\\frac{\\sigma}{r})^{6}$$\n",
        "\n",
        "$$E_{repulsive}(r) = 4𝜀(\\frac{\\sigma}{r})^{12}$$\n",
        "\n",
        "$$E(r) = E_{repulsive}(r) + E_{attractive}(r)$$\n",
        "\n",
        "$$f(r) = -\\frac{∂E(r)}{∂r}$$"
      ],
      "metadata": {
        "id": "0DVbr1VABFIh"
      },
      "id": "0DVbr1VABFIh"
    },
    {
      "cell_type": "code",
      "source": [
        "def lj_force(r_mag, epsilon, sigma):\n",
        "    \"\"\"\n",
        "    Implementation of the Lennard-Jones potential \n",
        "    to calculate the force of the interaction.\n",
        "    \n",
        "    Parameters\n",
        "    ----------\n",
        "    r_mag: float\n",
        "        Distance between two particles (Å)\n",
        "    epsilon: float \n",
        "        Potential energy at the equilibrium bond \n",
        "        length (eV)\n",
        "    sigma: float \n",
        "        Distance at which the potential energy is \n",
        "        zero (Å)\n",
        "    \n",
        "    Returns\n",
        "    -------\n",
        "    float\n",
        "        Force of the van der Waals interaction (eV/Å)\n",
        "    \"\"\"\n",
        "    attractive = 24 * epsilon * np.power(sigma, 6) / np.power(r_mag, 7)\n",
        "    repulsive = 48 * epsilon * np.power(sigma, 12) / np.power(r_mag, 13)\n",
        "    return repulsive - attractive"
      ],
      "metadata": {
        "id": "oEiVfleB9Gji"
      },
      "id": "oEiVfleB9Gji",
      "execution_count": 33,
      "outputs": []
    },
    {
      "cell_type": "code",
      "source": [
        "def init_velocity(temperature, n_particles, dimension):\n",
        "    \"\"\"\n",
        "    Initialise the velocities for a series of \n",
        "    particles.\n",
        "    \n",
        "    Parameters\n",
        "    ----------\n",
        "    temperature: float\n",
        "        Temperature of the system at \n",
        "        initialisation (K)\n",
        "    n_particles: int\n",
        "        Number of particles in the system\n",
        "    dimension: int\n",
        "        Number of dimensions for simulation\n",
        "    \n",
        "    Returns\n",
        "    -------\n",
        "    ndarray of floats\n",
        "        Initial velocities for a series of \n",
        "        particles (eVs/Åamu)\n",
        "    \"\"\"\n",
        "    if dimension == 1:\n",
        "      rand = np.random.rand(n_particles) - 0.5\n",
        "    else:\n",
        "      rand = np.random.rand(n_particles, dimension) - 0.5\n",
        "    v0 = rand * np.sqrt(Boltzmann * temperature / (mass_of_argon * 1.602e-19))\n",
        "    return v0.T"
      ],
      "metadata": {
        "id": "m5ZehUfs9PRj"
      },
      "id": "m5ZehUfs9PRj",
      "execution_count": 51,
      "outputs": []
    },
    {
      "cell_type": "markdown",
      "source": [
        "* Velocity Verlet algorithm:\n",
        "$${x}_i(t + \\Delta t) = {x}_i(t) + {v}_i(t) \\Delta t + \\frac{1}{2}{a}_i(t)\\Delta t^2$$\n",
        "$${v}_i(t + \\Delta t) = {v}_i(t) + \\frac{1}{2}[{a}_i(t) + {a}_i(t + \\Delta t)]\\Delta t$$"
      ],
      "metadata": {
        "id": "YtN8BIKLBLcI"
      },
      "id": "YtN8BIKLBLcI"
    },
    {
      "cell_type": "code",
      "source": [
        "def update_pos(r, v, a, dt):\n",
        "    \"\"\"\n",
        "    Update the particle positions.\n",
        "    \n",
        "    Parameters\n",
        "    ----------\n",
        "    r: ndarray of floats\n",
        "        The positions of the particles\n",
        "    v: ndarray of floats\n",
        "        The velocities of the particles\n",
        "    a: ndarray of floats\n",
        "        The accelerations of the particles\n",
        "    dt: float\n",
        "        The timestep length\n",
        "    \n",
        "    Returns\n",
        "    -------\n",
        "    ndarray of floats:\n",
        "        New positions of the particles\n",
        "    \"\"\"\n",
        "    return r + v * dt + 0.5 * a * dt * dt\n",
        "\n",
        "\n",
        "def update_velo(v, a_pre, a_current, dt):\n",
        "    \"\"\"\n",
        "    Update the particle velocities.\n",
        "    \n",
        "    Parameters\n",
        "    ----------\n",
        "    v: ndarray of floats\n",
        "        The velocities of the particles (eVs/Åamu)\n",
        "    a: ndarray of floats\n",
        "        The accelerations of the particles at the previous \n",
        "        timestep (eV/Åamu)\n",
        "    a1: ndarray of floats\n",
        "        The accelerations of the particles at the current \n",
        "        timestep (eV/Åamu)\n",
        "    dt: float\n",
        "        The timestep length\n",
        "    \n",
        "    Returns\n",
        "    -------\n",
        "    ndarray of floats:\n",
        "        New velocities of the particles (eVs/Åamu)\n",
        "    \"\"\"\n",
        "    return v + 0.5 * (a_pre + a_current) * dt"
      ],
      "metadata": {
        "id": "bGIzGMAC9s2L"
      },
      "id": "bGIzGMAC9s2L",
      "execution_count": 87,
      "outputs": []
    },
    {
      "cell_type": "code",
      "source": [
        "def get_accelerations(positions, dimension):\n",
        "    \"\"\"\n",
        "    Calculate the acceleration on each particle\n",
        "    as a  result of each other particle. \n",
        "    \n",
        "    Parameters\n",
        "    ----------\n",
        "    positions: ndarray of floats\n",
        "        The positions, for all of the particles\n",
        "    dimension: int\n",
        "        Number of dimensions for simulation\n",
        "\n",
        "    Returns\n",
        "    -------\n",
        "    ndarray of floats\n",
        "        The acceleration on each\n",
        "        particle (eV/Åamu)\n",
        "    \"\"\"\n",
        "    size = positions.shape[1]\n",
        "    accel = np.zeros((dimension, size, size))\n",
        "    positions = positions.T\n",
        "    for i in range(0, size - 1):\n",
        "        for j in range(i + 1, size):\n",
        "            r_temp = positions[j] - positions[i]\n",
        "            rmag = np.sqrt(np.dot(r_temp, r_temp))\n",
        "            force_scalar = lj_force(rmag, 0.0103, 3.4)\n",
        "            force = force_scalar * r_temp / rmag\n",
        "            accel[:, i, j] = force / mass_of_argon\n",
        "            accel[:, j, i] = - force / mass_of_argon\n",
        "    return np.sum(accel, axis=1)"
      ],
      "metadata": {
        "id": "y6twIh41AMJ7"
      },
      "id": "y6twIh41AMJ7",
      "execution_count": 82,
      "outputs": []
    },
    {
      "cell_type": "code",
      "source": [
        "def run_md(dt, steps, initial_temp, r, n_particles, dimension):\n",
        "    \"\"\"\n",
        "    Run a MD simulation.\n",
        "    \n",
        "    Parameters\n",
        "    ----------\n",
        "    dt: float\n",
        "        The timestep length (s)\n",
        "    steps: int\n",
        "        Number of iterations in the simulation\n",
        "    initial_temp: float\n",
        "        Temperature of the system at \n",
        "        initialisation (K)\n",
        "    r: ndarray of floats\n",
        "        The initial positions of the particles (Å)\n",
        "    n_particles: int\n",
        "        Number of particles in the system\n",
        "    dimensions: int\n",
        "        Number of dimensions for simulation\n",
        "\n",
        "    Returns\n",
        "    -------\n",
        "    ndarray of floats\n",
        "        The positions for all of the particles \n",
        "        throughout the simulation (Å)\n",
        "    \"\"\"\n",
        "    positions = np.zeros((steps, dimension, n_particles))\n",
        "    positions[0] = r\n",
        "    v = init_velocity(initial_temp, n_particles, dimension)\n",
        "    a = get_accelerations(r, dimension)\n",
        "    for i in range(1, steps):\n",
        "        r = update_pos(r, v, a, dt)\n",
        "        a1 = get_accelerations(r, dimension)\n",
        "        v = update_velo(v, a, a1, dt)\n",
        "        a = a1.copy()\n",
        "        positions[i, :] = r.copy()\n",
        "    return positions"
      ],
      "metadata": {
        "id": "JuxmW0oS2BpK"
      },
      "id": "JuxmW0oS2BpK",
      "execution_count": 88,
      "outputs": []
    },
    {
      "cell_type": "code",
      "execution_count": 140,
      "id": "5d31ba78-3556-4286-908f-654d2847a891",
      "metadata": {
        "id": "5d31ba78-3556-4286-908f-654d2847a891"
      },
      "outputs": [],
      "source": [
        "r0 = np.array([[1, 4, 8],[1, 5, 8]])\n",
        "sim_pos = run_md(dt=0.1, steps=20000, initial_temp=300, r=r0, n_particles=3, dimension=2)"
      ]
    },
    {
      "cell_type": "code",
      "source": [
        "plt.plot(sim_pos[0, :][0], sim_pos[0, :][1], 'o')\n",
        "plt.show()"
      ],
      "metadata": {
        "colab": {
          "base_uri": "https://localhost:8080/",
          "height": 265
        },
        "id": "FzUyE8us5K95",
        "outputId": "d885f14f-dbc8-4737-9cc5-c44eb5d10122"
      },
      "id": "FzUyE8us5K95",
      "execution_count": 141,
      "outputs": [
        {
          "output_type": "display_data",
          "data": {
            "text/plain": [
              "<Figure size 432x288 with 1 Axes>"
            ],
            "image/png": "[encoded data removed]"
          },
          "metadata": {
            "needs_background": "light"
          }
        }
      ]
    },
    {
      "cell_type": "code",
      "source": [
        "for i in range(3):\n",
        "  plt.plot(sim_pos[:, 1, i], '.', label='atom {}'.format(i))\n",
        "plt.xlabel(r'Step')\n",
        "plt.ylabel(r'$y$-Position/Å')\n",
        "plt.legend(frameon=False)\n",
        "plt.show()"
      ],
      "metadata": {
        "colab": {
          "base_uri": "https://localhost:8080/",
          "height": 279
        },
        "id": "GuuA-Gpp52YS",
        "outputId": "3bf2b0f1-caec-4a75-a3a4-1b47444e84f4"
      },
      "id": "GuuA-Gpp52YS",
      "execution_count": 147,
      "outputs": [
        {
          "output_type": "display_data",
          "data": {
            "text/plain": [
              "<Figure size 432x288 with 1 Axes>"
            ],
            "image/png": "[encoded data removed]"
          },
          "metadata": {
            "needs_background": "light"
          }
        }
      ]
    },
    {
      "cell_type": "code",
      "source": [
        "for i in range(3):\n",
        "  plt.plot(sim_pos[:, 0, i], '.', label='atom {}'.format(i))\n",
        "plt.xlabel(r'Step')\n",
        "plt.ylabel(r'$x$-Position/Å')\n",
        "plt.legend(frameon=False)\n",
        "plt.show()"
      ],
      "metadata": {
        "colab": {
          "base_uri": "https://localhost:8080/",
          "height": 279
        },
        "id": "R8vLulTV8wR5",
        "outputId": "a8be3d96-9961-4a6f-d672-dfd33dd16305"
      },
      "id": "R8vLulTV8wR5",
      "execution_count": 148,
      "outputs": [
        {
          "output_type": "display_data",
          "data": {
            "text/plain": [
              "<Figure size 432x288 with 1 Axes>"
            ],
            "image/png": "[encoded data removed]"
          },
          "metadata": {
            "needs_background": "light"
          }
        }
      ]
    },
    {
      "cell_type": "code",
      "source": [
        "for i in range(3):\n",
        "  plt.plot(sim_pos[:, 0, i], sim_pos[:, 1, i], '.', label='atom {}'.format(i))\n",
        "plt.xlabel(r'$x$-Position/Å')\n",
        "plt.ylabel(r'$y$-Position/Å')\n",
        "plt.legend(frameon=False)\n",
        "plt.show()"
      ],
      "metadata": {
        "colab": {
          "base_uri": "https://localhost:8080/",
          "height": 284
        },
        "id": "Cl6G-j0_9nzZ",
        "outputId": "480a398b-231e-4fe1-f800-3fa0aab510f4"
      },
      "id": "Cl6G-j0_9nzZ",
      "execution_count": 150,
      "outputs": [
        {
          "output_type": "display_data",
          "data": {
            "text/plain": [
              "<Figure size 432x288 with 1 Axes>"
            ],
            "image/png": "[encoded data removed]"
          },
          "metadata": {
            "needs_background": "light"
          }
        }
      ]
    }
  ],
  "metadata": {
    "kernelspec": {
      "display_name": "Python 3",
      "name": "python3"
    },
    "language_info": {
      "name": "python"
    },
    "colab": {
      "provenance": [],
      "include_colab_link": true
    },
    "gpuClass": "standard"
  },
  "nbformat": 4,
  "nbformat_minor": 5
}